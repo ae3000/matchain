{
 "cells": [
  {
   "cell_type": "markdown",
   "metadata": {},
   "source": [
    "# Run MatChain by Configuration File"
   ]
  },
  {
   "cell_type": "markdown",
   "metadata": {},
   "source": [
    "This notebook illustrates how to match two datasets A and B by using MatChain's configuration file. The notebook uses the same datasets and parameters as the notebook [run_matchain_api.ipynb](https://github.com/ae3000/matchain/blob/main/notebooks/run_matchain_api.ipynb). However, the latter also gives some background information about MatChain and explains some relevant parameters in more detail.\n",
    "\n",
    "MatChain uses two configuration files in YAML format: The first one defines the entire matching chain, its commands (steps) and the parameters for each step. The second one defines the datasets and matching properties (columns). Since the first file refers to the second file, we only need the path of the first file as input parameter.\n",
    "\n",
    "Instead of using the command line ```python matchain --config ./config/mccommands.yaml```, we can also call method ```run_config_file``` with the path of the configuration file as input parameter."
   ]
  },
  {
   "cell_type": "code",
   "execution_count": 6,
   "metadata": {},
   "outputs": [
    {
     "name": "stderr",
     "output_type": "stream",
     "text": [
      "2023-11-02 21:41:32,030 INFO     selected datasets=['da']\n",
      "2023-11-02 21:41:32,032 WARNING  logging to console only\n",
      "2023-11-02 21:41:32,033 INFO     configuration=\n",
      "{'autocal': {'delta': 0.025, 'threshold': 'estimated'},\n",
      " 'blocking': {'blocking_threshold': 0.5,\n",
      "              'name': 'sparsedottopn',\n",
      "              'njobs': 1,\n",
      "              'ntop': 10,\n",
      "              'query_strategy': 'smaller',\n",
      "              'shingle_size': 3,\n",
      "              'vector_type': 'shingle_tfidf'},\n",
      " 'chain': ['prepare', 'blocking', 'similarity', 'autocal', 'evaluate'],\n",
      " 'dataset': {'blocking_props': ['title', 'authors', 'venue'],\n",
      "             'data_1': './data/Structured/DBLP-ACM/tableA.csv',\n",
      "             'data_2': './data/Structured/DBLP-ACM/tableB.csv',\n",
      "             'dataset_name': 'da',\n",
      "             'file_matches': './data/Structured/DBLP-ACM',\n",
      "             'props_sim': {'authors': ['tfidf_sklearn'],\n",
      "                           'title': ['tfidf_sklearn'],\n",
      "                           'venue': ['tfidf_sklearn'],\n",
      "                           'year': 'equal'}},\n",
      " 'dir_data': './data',\n",
      " 'evaluate': {'compute_max_f1': False, 'leak_n_matches': False},\n",
      " 'include': ['./config/mcdatasets.yaml'],\n",
      " 'mtoken': {'maximum_token_frequency': 50,\n",
      "            'minimum_token_length': 3,\n",
      "            'readable': False,\n",
      "            'tfidf_index': False},\n",
      " 'output': {'file_embedding': './experiments/autocal_sdt_shg_config_file_231102_214132/da.emb',\n",
      "            'file_embedding_id': './experiments/autocal_sdt_shg_config_file_231102_214132/da_indices.emb'},\n",
      " 'prepare': {'dir_conf': './config',\n",
      "             'dir_experiments': './experiments/autocal_sdt_shg_config_file_231102_214132',\n",
      "             'log_file': './experiments/autocal_sdt_shg_config_file_231102_214132/da_log.txt',\n",
      "             'seed': 1},\n",
      " 'similarity': {'embedding_batch_size': 64,\n",
      "                'embedding_device': 'cuda',\n",
      "                'embedding_model': 'stsb-roberta-base',\n",
      "                'tfidf_maxidf': 30},\n",
      " 'subdir': 'autocal_sdt_shg_config_file',\n",
      " 'tag': 'autocal_sdt_shg_config_file_231102_214132'}\n",
      "2023-11-02 21:41:32,034 INFO     starting matching for name=da, chain=['prepare', 'blocking', 'similarity', 'autocal', 'evaluate']\n",
      "2023-11-02 21:41:32,034 INFO     running command=prepare\n",
      "2023-11-02 21:41:32,034 INFO     setting seed=1\n",
      "2023-11-02 21:41:32,037 INFO     cuda available=True, embedding_device=cuda\n"
     ]
    },
    {
     "name": "stderr",
     "output_type": "stream",
     "text": [
      "2023-11-02 21:41:32,054 INFO     size_1=2616, size_2=2294, concat df_data=4910\n",
      "2023-11-02 21:41:32,056 INFO     finished command=prepare, time=0.022005319595336914\n",
      "2023-11-02 21:41:32,057 INFO     running command=blocking\n"
     ]
    },
    {
     "name": "stdout",
     "output_type": "stream",
     "text": [
      "matching for:\n",
      "da        ['prepare', 'blocking', 'similarity', 'autocal', 'evaluate']\n",
      "\n"
     ]
    },
    {
     "name": "stderr",
     "output_type": "stream",
     "text": [
      "2023-11-02 21:41:32,252 INFO     generated vectors=(6567, 8257), time=0.17551732063293457, df_values=(4910, 3), df_index_array=(4910, 3), values=6567\n",
      "2023-11-02 21:41:32,319 INFO     blocking prop=title, new candidates=3649, all candidates=3649, total time nn search=0.06553459167480469\n",
      "2023-11-02 21:41:32,457 INFO     blocking prop=authors, new candidates=8067, all candidates=9230, total time nn search=0.20407652854919434\n",
      "2023-11-02 21:41:32,476 INFO     blocking prop=venue, new candidates=5200, all candidates=14385, total time nn search=0.22260761260986328\n",
      "2023-11-02 21:41:32,489 INFO     candidate pairs=14385\n",
      "2023-11-02 21:41:32,490 INFO     finished command=blocking, time=0.4327075481414795\n",
      "2023-11-02 21:41:32,491 INFO     running command=similarity\n",
      "2023-11-02 21:41:32,493 INFO     computing vectorized similarity\n",
      "2023-11-02 21:41:32,496 INFO     computed vectorized similarity=14385, sim columns=['0'], time=0.002004861831665039\n",
      "2023-11-02 21:41:32,496 INFO     computing similarity tfidf\n",
      "2023-11-02 21:41:32,803 INFO     computed similarity tfidf=14385, sim columns=['1', '2', '3'], time=0.3066220283508301\n",
      "2023-11-02 21:41:32,811 INFO     finished command=similarity, time=0.31997251510620117\n",
      "2023-11-02 21:41:32,811 INFO     running command=autocal\n",
      "2023-11-02 21:41:32,814 INFO     calculated maximum similarity, dataset_id=1, entities=2465\n",
      "2023-11-02 21:41:32,862 INFO     calculated auto calibrated scores\n",
      "2023-11-02 21:41:32,868 INFO     identified best total scores, dataset_id=1\n",
      "2023-11-02 21:41:32,870 INFO     calculated maximum similarity, dataset_id=2, entities=2291\n",
      "2023-11-02 21:41:32,917 INFO     calculated auto calibrated scores\n",
      "2023-11-02 21:41:32,923 INFO     identified best total scores, dataset_id=2\n",
      "2023-11-02 21:41:32,927 INFO     combined total scores=14385, best total scores=2640\n",
      "2023-11-02 21:41:32,928 INFO     estimating best threshold\n",
      "2023-11-02 21:41:32,953 INFO     estimated best threshold=0.425, best pos=17\n",
      "2023-11-02 21:41:32,958 INFO     finished command=autocal, time=0.14703989028930664\n",
      "2023-11-02 21:41:32,959 INFO     running command=evaluate\n",
      "2023-11-02 21:41:33,015 INFO     metrics=\n",
      "{'blocking': {'matches': 2220, 'nonmatches': 10143, 'diff_matches': 4, 'diff_nonmatches': 8509, 'candidate_matches': 2216, 'candidate_nonmatches': 12169}, 'test_set': {'estimated': {'t': 0.425, 'f1': 0.97511, 'p': 0.97955, 'r': 0.97072, 'tpos': 431, 'fpos': 9, 'fneg': 13}}, 'union_set': {'estimated': {'t': 0.425, 'f1': 0.97416, 'p': 0.98038, 'r': 0.96802, 'tpos': 2149, 'fpos': 43, 'fneg': 71}}, 'match_frequencies_1_to_2': {0: 396, 1: 2220}, 'match_frequencies_2_to_1': {0: 74, 1: 2220}}\n",
      "2023-11-02 21:41:33,016 INFO     finished command=evaluate, time=0.05727052688598633\n",
      "2023-11-02 21:41:33,016 INFO     finished matching, total time=0.9840154647827148\n"
     ]
    }
   ],
   "source": [
    "import matchain.chain\n",
    "config_commands = './config/mccommands.yaml'\n",
    "boards = matchain.chain.run_config_file(config_commands)\n"
   ]
  },
  {
   "cell_type": "markdown",
   "metadata": {},
   "source": [
    "The returned list contains one ```PinBoard``` object for each matched dataset pair (or ```None``` if an exception was raised during matching the dataset pair). In our example, we only match the datasets A and B located in ```./data/Structured/DBLP-ACM```. We can access the predicted matches and the evaluation result as follows:"
   ]
  },
  {
   "cell_type": "code",
   "execution_count": 7,
   "metadata": {},
   "outputs": [
    {
     "data": {
      "text/plain": [
       "MultiIndex([(   0,  117),\n",
       "            (   1, 1093),\n",
       "            (   3, 1125),\n",
       "            (   4, 1450),\n",
       "            (   5,   49),\n",
       "            (   7, 1179),\n",
       "            (   8, 1759),\n",
       "            (   9, 1885),\n",
       "            (  10, 2289),\n",
       "            (  11, 2010),\n",
       "            ...\n",
       "            (2603, 1947),\n",
       "            (2604, 1334),\n",
       "            (2606, 1153),\n",
       "            (2607, 2293),\n",
       "            (2608,  555),\n",
       "            (2609, 1343),\n",
       "            (2610, 1689),\n",
       "            (2611, 1237),\n",
       "            (2613,  535),\n",
       "            (2615, 1406)],\n",
       "           names=['idx_1', 'idx_2'], length=2192)"
      ]
     },
     "execution_count": 7,
     "metadata": {},
     "output_type": "execute_result"
    }
   ],
   "source": [
    "boards[0].predicted_matches\n"
   ]
  },
  {
   "cell_type": "code",
   "execution_count": 8,
   "metadata": {},
   "outputs": [
    {
     "data": {
      "text/plain": [
       "{'t': 0.425,\n",
       " 'f1': 0.97416,\n",
       " 'p': 0.98038,\n",
       " 'r': 0.96802,\n",
       " 'tpos': 2149,\n",
       " 'fpos': 43,\n",
       " 'fneg': 71}"
      ]
     },
     "execution_count": 8,
     "metadata": {},
     "output_type": "execute_result"
    }
   ],
   "source": [
    "boards[0].evaluation_metrics['union_set']['estimated']\n"
   ]
  },
  {
   "cell_type": "markdown",
   "metadata": {},
   "source": [
    "## Dataset Configuration File"
   ]
  },
  {
   "cell_type": "markdown",
   "metadata": {},
   "source": [
    "The config file that defines the mapping columns for the dataset pair of our example is located in ```.\\config\\mcdatasets.yaml```. The snippet in the next cell only shows the definition for the datasets of our example, namely *DBLP* and *ACM*. The configuration file contains similar definitions for further dataset pairs.\n",
    "\n",
    "Each mapping starts with an arbitrary (but unique) reference name (here, ```da```), followed by \n",
    "- the type ```dataset``` \n",
    "- the paths to the datasets\n",
    "- an optional path to the ground truth (for evaluation only)\n",
    "- the names of the properties that should be used for matching, including a similarity function or a list of similarity functions for each property\n",
    "- a list of blocking properties\n",
    "\n",
    "Users may define variables with an arbitrary name (such as ```dir_data```). When reading the config file, MatChain replaces each variable by its value if its name is surrounded by curly brackets and occurs in a string (e.g. ```{dir_data}``` in the strings for ```data_1```, ```data_2``` and ```file_matches```)."
   ]
  },
  {
   "cell_type": "raw",
   "metadata": {},
   "source": [
    "dir_data: ./data\n",
    "\n",
    "...\n",
    "\n",
    "da:\n",
    "  type: dataset\n",
    "  data_1: \"{dir_data}/Structured/DBLP-ACM/tableA.csv\"\n",
    "  data_2: \"{dir_data}/Structured/DBLP-ACM/tableB.csv\"\n",
    "  file_matches: \"{dir_data}/Structured/DBLP-ACM\"\n",
    "  props_sim:\n",
    "    year: equal\n",
    "    title: [tfidf_sklearn]\n",
    "    authors: [tfidf_sklearn]\n",
    "    venue: [tfidf_sklearn]\n",
    "  blocking_props: [title, authors, venue]\n"
   ]
  },
  {
   "cell_type": "markdown",
   "metadata": {},
   "source": [
    "## Command Configuration File"
   ]
  },
  {
   "cell_type": "markdown",
   "metadata": {},
   "source": [
    "The config file that defines the commands (i.e. the matching steps) for our example is located in ```.\\config\\mccommands.yaml```. We will run through the blocks of the config file one by another.\n",
    "\n",
    "In the first block, the dataset configuration file is included and the datasets that should be matched are selected. In our example, we only select a single pair, namely *DBLP* and *ACM*, denoted by  ```da```."
   ]
  },
  {
   "cell_type": "raw",
   "metadata": {},
   "source": [
    "include:\n",
    "- \"./config/mcdatasets.yaml\"\n",
    "\n",
    "#select_datasets: [fz,dg,kg,ag,da,ds]\n",
    "select_datasets: [da]\n"
   ]
  },
  {
   "cell_type": "markdown",
   "metadata": {},
   "source": [
    "The next line defines the command chain:"
   ]
  },
  {
   "cell_type": "raw",
   "metadata": {},
   "source": [
    "chain: [prepare,blocking,similarity,autocal,evaluate]\n"
   ]
  },
  {
   "cell_type": "markdown",
   "metadata": {},
   "source": [
    "For each command, the parameters are specified in separate YAML block.\n",
    "\n",
    "The next cell shows the block for the command ```prepare```. It allows to set the seed and the logging directories. \n",
    "\n",
    "Once again, MatChain replaces variable names by their values, even in a nested manner. The following variables are pre-defined and have a special meaning:\n",
    "\n",
    "- ```current_time```: MatChain sets current time when it is started\n",
    "- ```seed```: an integer-valued random seed\n",
    "- ```dataset_name```: the name of the dataset pair (e.g. ```da```)\n",
    "- ```log_file```: the path of the log file\n",
    "- ```log_config_file```: the path of the file used to configure logging; if null message are only logged to console. \n",
    "\n",
    "The block in the next cell means that there is a separate log file for each dataset pair. If more than one dataset pair is selected, they are matched one by another and all log files are stored in the same directory. Moreover, MatChain creates a new log directory with a current time stamp each time it is started. \n",
    "\n",
    "By contrast, ```subdir```, ```tag```, ```dir_experiments```, and ```dir_config``` are user-defined variables that are not referred by the code and thus can be renamed. \n",
    "\n"
   ]
  },
  {
   "cell_type": "raw",
   "metadata": {},
   "source": [
    "subdir: config_3_autocal_cpu_sdt_shg\n",
    "tag: \"{subdir}_{current_time}\"\n",
    "\n",
    "prepare:\n",
    "  seed: 1\n",
    "  dir_experiments: \"./experiments/{tag}\"\n",
    "  dir_conf: \"./config\"\n",
    "  log_file: \"{dir_experiments}/{dataset_name}_log.txt\"\n",
    "  #log_config_file: \"{dir_conf}/logging.yaml\"\n"
   ]
  },
  {
   "cell_type": "markdown",
   "metadata": {},
   "source": [
    "The next cell shows the blocks for the commands ```blocking```, ```similarity```, and ```autocal```. Their parameters are described in the notebook  [run_matchain_api.ipynb](https://github.com/ae3000/matchain/blob/main/notebooks/run_matchain_api.ipynb). \n",
    "\n",
    "In our example, the parameters for command ```blocking``` determine sparse shingle vectors and approximate nearest neighbour search for blocking. In this case, the embedding parameters for command ```similarity``` are ignored; they are only used when ```vector_type: embedding``` (in combination with ```name: faiss```) is configured for blocking. "
   ]
  },
  {
   "cell_type": "raw",
   "metadata": {},
   "source": [
    "blocking:\n",
    "  name: sparsedottopn\n",
    "  vector_type: shingle_tfidf\n",
    "  shingle_size: 3\n",
    "  query_strategy: smaller\n",
    "  ntop: 10\n",
    "  blocking_threshold: 0.5\n",
    "\n",
    "similarity:\n",
    "  embedding_batch_size: 1024\n",
    "  embedding_model: all-MiniLM-L6-v2\n",
    "  embedding_device: cpu\n",
    "  #embedding_device: cuda\n",
    "\n",
    "autocal:\n",
    "  delta: 0.025\n"
   ]
  }
 ],
 "metadata": {
  "kernelspec": {
   "display_name": "ontomatch3",
   "language": "python",
   "name": "python3"
  },
  "language_info": {
   "codemirror_mode": {
    "name": "ipython",
    "version": 3
   },
   "file_extension": ".py",
   "mimetype": "text/x-python",
   "name": "python",
   "nbconvert_exporter": "python",
   "pygments_lexer": "ipython3",
   "version": "3.8.16"
  },
  "orig_nbformat": 4,
  "vscode": {
   "interpreter": {
    "hash": "2a05e0bf576605808f99c8e3f20d8c17c8174ac0e05a4a543199cbd993da3a15"
   }
  }
 },
 "nbformat": 4,
 "nbformat_minor": 2
}
